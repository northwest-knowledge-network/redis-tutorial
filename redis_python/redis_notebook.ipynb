{
 "cells": [
  {
   "cell_type": "markdown",
   "id": "2cd0aa75",
   "metadata": {},
   "source": [
    "# Redis in Python"
   ]
  },
  {
   "cell_type": "markdown",
   "id": "bc1b917f-55d0-4938-bc70-9fd34f91c3a1",
   "metadata": {},
   "source": [
    "This notebook will showcase how to interact with a Redis db via the Python library. \n",
    "\n",
    "Useful resources:\n",
    "<ul>\n",
    "    <li><a href=\"https://redis-py.readthedocs.io/en/stable/\" target=\"_blank\">Redis Python documentation</a></li>\n",
    "    <li><a href=\"https://redis.io/docs/getting-started/\" target=\"_blank\">Base Redis documentation</a></li>\n",
    "    <li><a href=\"https://www.ibm.com/docs/en/watson-studio-local/1.2.3?topic=notebooks-markdown-jupyter-cheatsheet\" target=\"_blank\">Markdown in jupyter cheatsheet</a></li>\n",
    "</ul>"
   ]
  },
  {
   "cell_type": "markdown",
   "id": "c98ee52c-fea9-4454-aeb6-d44bbc788221",
   "metadata": {},
   "source": [
    "## Getting started:"
   ]
  },
  {
   "cell_type": "markdown",
   "id": "cbc10f17-d7ac-4651-a0ae-0583299349f0",
   "metadata": {},
   "source": [
    "In this section we will get started by connecting to our redis db, take a look at exisiting data, and checkout a few datatypes."
   ]
  },
  {
   "cell_type": "markdown",
   "id": "a165a3fa-62a6-45fb-8698-36f52d10f779",
   "metadata": {},
   "source": [
    "Start by importing redis:"
   ]
  },
  {
   "cell_type": "code",
   "execution_count": 4,
   "id": "7987d879",
   "metadata": {},
   "outputs": [],
   "source": [
    "import redis"
   ]
  },
  {
   "cell_type": "markdown",
   "id": "421db2e4-0a5a-47d2-afdd-126bcae02eed",
   "metadata": {},
   "source": [
    "Next we connect to our Redis db: "
   ]
  },
  {
   "cell_type": "code",
   "execution_count": 14,
   "id": "d9df780d",
   "metadata": {},
   "outputs": [],
   "source": [
    "redis_client = redis.Redis(host='localhost', port=6379, db=0)"
   ]
  },
  {
   "cell_type": "markdown",
   "id": "8f249b1b-1ab1-4ef8-adc1-8dc07910d867",
   "metadata": {},
   "source": [
    "<div class=\"alert alert-block alert-info\">\n",
    "    After writing this tutorial, I learned that you can add `decode_responses=True` when you initialize the redis client to automatically decode bytes to strings. Adding this allows you to skip the decoding step below.\n",
    "</div>"
   ]
  },
  {
   "cell_type": "markdown",
   "id": "76d475cc-bb26-43ae-bafe-f4411be11300",
   "metadata": {},
   "source": [
    "To start, let's take a look at keys that I have already added to the Redis db:"
   ]
  },
  {
   "cell_type": "code",
   "execution_count": 15,
   "id": "1a1b9285-b9c1-4e28-9762-ea7d8ca04020",
   "metadata": {},
   "outputs": [
    {
     "data": {
      "text/plain": [
       "[b'collection-info:61',\n",
       " b'collection-info:14',\n",
       " b'collection:14',\n",
       " b'collection:61',\n",
       " b'collection:67',\n",
       " b'collection-info:12',\n",
       " b'collection:12',\n",
       " b'collection-info:67',\n",
       " b'collection:62',\n",
       " b'collection-info:62']"
      ]
     },
     "execution_count": 15,
     "metadata": {},
     "output_type": "execute_result"
    }
   ],
   "source": [
    "redis_client.keys()"
   ]
  },
  {
   "cell_type": "markdown",
   "id": "7fdf1343-79c7-46e5-947f-7ba587623237",
   "metadata": {},
   "source": [
    "The first thing that we notice is that the keys are returned as byte strings. Although this doesn't matter now while we are simply exploring the data, it is important to note that we must convert these to strings if we plan on using them in python. We can quickly convert these to normal strings:"
   ]
  },
  {
   "cell_type": "code",
   "execution_count": 16,
   "id": "896a08ea-ebf8-4843-85f6-33a45c2a288a",
   "metadata": {},
   "outputs": [
    {
     "data": {
      "text/plain": [
       "['collection-info:61',\n",
       " 'collection-info:14',\n",
       " 'collection:14',\n",
       " 'collection:61',\n",
       " 'collection:67',\n",
       " 'collection-info:12',\n",
       " 'collection:12',\n",
       " 'collection-info:67',\n",
       " 'collection:62',\n",
       " 'collection-info:62']"
      ]
     },
     "execution_count": 16,
     "metadata": {},
     "output_type": "execute_result"
    }
   ],
   "source": [
    "raw_redis_keys = redis_client.keys()\n",
    "redis_keys = [x.decode('utf-8') for x in raw_redis_keys]\n",
    "redis_keys"
   ]
  },
  {
   "cell_type": "markdown",
   "id": "58edd16b-526a-4f98-bb74-72edcc8b7745",
   "metadata": {},
   "source": [
    "Now that we know that certain keys exist, let's check the data types so that we can properly query the data:"
   ]
  },
  {
   "cell_type": "code",
   "execution_count": 17,
   "id": "e91b4d77-f918-4e97-bd05-55d10814a495",
   "metadata": {},
   "outputs": [
    {
     "data": {
      "text/plain": [
       "b'zset'"
      ]
     },
     "execution_count": 17,
     "metadata": {},
     "output_type": "execute_result"
    }
   ],
   "source": [
    "redis_client.type('collection:14')"
   ]
  },
  {
   "cell_type": "markdown",
   "id": "d7cabaea-66d1-46df-b34f-d068ccb2ca48",
   "metadata": {},
   "source": [
    "Here we see that `collection:<id>` is a sorted set. This is also how geographic data is stored."
   ]
  },
  {
   "cell_type": "code",
   "execution_count": 18,
   "id": "157e60bd-813b-4c9d-9b09-13bfdd514201",
   "metadata": {},
   "outputs": [
    {
     "data": {
      "text/plain": [
       "b'hash'"
      ]
     },
     "execution_count": 18,
     "metadata": {},
     "output_type": "execute_result"
    }
   ],
   "source": [
    "redis_client.type('collection-info:14')"
   ]
  },
  {
   "cell_type": "markdown",
   "id": "45537a85-f588-4ac7-a9fd-82fc608fe695",
   "metadata": {},
   "source": [
    "`collection-info:<id>` is stored as a hash."
   ]
  },
  {
   "cell_type": "markdown",
   "id": "a0566867-a946-44a1-bf06-e624532a1c02",
   "metadata": {},
   "source": [
    "<div class=\"alert alert-block alert-success\">\n",
    "    Keys can contain different datatypes, each of which requires a specific call to access.\n",
    "</div"
   ]
  },
  {
   "cell_type": "markdown",
   "id": "26a2241f",
   "metadata": {},
   "source": [
    "## Accessing data stored in different datatypes "
   ]
  },
  {
   "cell_type": "markdown",
   "id": "74612d72-6ca2-4df2-8766-209ccdc1f0ef",
   "metadata": {},
   "source": [
    "### Sorted Sets (zset):"
   ]
  },
  {
   "cell_type": "code",
   "execution_count": 21,
   "id": "2af5f60b",
   "metadata": {},
   "outputs": [],
   "source": [
    "coll_resource_list = redis_client.zrange(\"collection:62\", 0, -1)"
   ]
  },
  {
   "cell_type": "code",
   "execution_count": 22,
   "id": "143e84d2",
   "metadata": {},
   "outputs": [],
   "source": [
    "# redis will return data as bytes so we need to transform this\n",
    "# we extract the resource id str from the key name\n",
    "cr_list = [x.decode('utf-8').split(':')[1] for x in coll_resource_list]"
   ]
  },
  {
   "cell_type": "code",
   "execution_count": 23,
   "id": "a78641a9",
   "metadata": {},
   "outputs": [
    {
     "data": {
      "text/plain": [
       "['59',\n",
       " '314',\n",
       " '315',\n",
       " '377',\n",
       " '379',\n",
       " '387',\n",
       " '395',\n",
       " '398',\n",
       " '896',\n",
       " '1037',\n",
       " '1856',\n",
       " '1867',\n",
       " '1875',\n",
       " '2426',\n",
       " '2653',\n",
       " '3104',\n",
       " '3167',\n",
       " '3179',\n",
       " '3259',\n",
       " '5521',\n",
       " '7950',\n",
       " '8257',\n",
       " '8732',\n",
       " '8742',\n",
       " '9213',\n",
       " '10167',\n",
       " '10332',\n",
       " '10390',\n",
       " '10404',\n",
       " '10634',\n",
       " '10684',\n",
       " '10752',\n",
       " '10881',\n",
       " '11139',\n",
       " '11149',\n",
       " '11151',\n",
       " '13094',\n",
       " '19637',\n",
       " '19712',\n",
       " '19713',\n",
       " '19776',\n",
       " '46642',\n",
       " '47598',\n",
       " '49618',\n",
       " '49619',\n",
       " '49620',\n",
       " '49621',\n",
       " '49622',\n",
       " '49623',\n",
       " '49624',\n",
       " '49625',\n",
       " '49626',\n",
       " '49627',\n",
       " '49628',\n",
       " '49629',\n",
       " '49630',\n",
       " '49631',\n",
       " '49632',\n",
       " '49633',\n",
       " '49634',\n",
       " '49635',\n",
       " '49636',\n",
       " '49637',\n",
       " '49638',\n",
       " '49639',\n",
       " '49640',\n",
       " '49641',\n",
       " '49642',\n",
       " '49643',\n",
       " '49644',\n",
       " '49646',\n",
       " '49647',\n",
       " '49648',\n",
       " '49649',\n",
       " '49650',\n",
       " '49651',\n",
       " '49652',\n",
       " '49653',\n",
       " '49654',\n",
       " '49655',\n",
       " '49656',\n",
       " '49657',\n",
       " '49658',\n",
       " '49659',\n",
       " '49660',\n",
       " '49661',\n",
       " '49662',\n",
       " '49663',\n",
       " '49664',\n",
       " '49665',\n",
       " '49666',\n",
       " '49667',\n",
       " '49668',\n",
       " '49669',\n",
       " '49670',\n",
       " '49671',\n",
       " '49672',\n",
       " '49673',\n",
       " '49674',\n",
       " '49675',\n",
       " '49676',\n",
       " '49677',\n",
       " '49678',\n",
       " '49679',\n",
       " '49680',\n",
       " '49681',\n",
       " '49682',\n",
       " '49683',\n",
       " '49684',\n",
       " '49685',\n",
       " '49686',\n",
       " '49687',\n",
       " '49688',\n",
       " '49689',\n",
       " '49690',\n",
       " '49691',\n",
       " '49692',\n",
       " '49693',\n",
       " '49694',\n",
       " '49695',\n",
       " '49696',\n",
       " '49697',\n",
       " '49698',\n",
       " '49699',\n",
       " '49700',\n",
       " '49701',\n",
       " '49702',\n",
       " '49703',\n",
       " '49704',\n",
       " '49705',\n",
       " '49706',\n",
       " '49707',\n",
       " '49708',\n",
       " '49709',\n",
       " '49710',\n",
       " '49711',\n",
       " '49712',\n",
       " '49713',\n",
       " '49714',\n",
       " '49715',\n",
       " '49716',\n",
       " '49717',\n",
       " '49718',\n",
       " '49719',\n",
       " '49720',\n",
       " '49721',\n",
       " '49722',\n",
       " '49723',\n",
       " '49724',\n",
       " '49725',\n",
       " '49726',\n",
       " '49727',\n",
       " '49728',\n",
       " '49729',\n",
       " '49730',\n",
       " '49731',\n",
       " '49732',\n",
       " '49733',\n",
       " '49734',\n",
       " '49735',\n",
       " '49736',\n",
       " '49737',\n",
       " '49738',\n",
       " '49739',\n",
       " '49740',\n",
       " '49741',\n",
       " '49742',\n",
       " '49743',\n",
       " '49744',\n",
       " '49746',\n",
       " '49747',\n",
       " '49748',\n",
       " '49749',\n",
       " '49750',\n",
       " '49751',\n",
       " '49752',\n",
       " '49753',\n",
       " '49754',\n",
       " '49755',\n",
       " '49756',\n",
       " '49757',\n",
       " '49758',\n",
       " '49760',\n",
       " '49761',\n",
       " '49762',\n",
       " '49763',\n",
       " '49764',\n",
       " '49765',\n",
       " '49766',\n",
       " '49767',\n",
       " '49768',\n",
       " '49769',\n",
       " '49770',\n",
       " '49771',\n",
       " '49772',\n",
       " '49773',\n",
       " '49774',\n",
       " '49775',\n",
       " '49776',\n",
       " '49777',\n",
       " '49778',\n",
       " '49779',\n",
       " '49780',\n",
       " '49781',\n",
       " '49782',\n",
       " '49783',\n",
       " '49784',\n",
       " '49785',\n",
       " '49786',\n",
       " '49787',\n",
       " '49788',\n",
       " '49789',\n",
       " '49790',\n",
       " '49791',\n",
       " '49792',\n",
       " '49793',\n",
       " '49794',\n",
       " '49795',\n",
       " '49796',\n",
       " '49797',\n",
       " '49798',\n",
       " '49799',\n",
       " '49800',\n",
       " '49801',\n",
       " '49802',\n",
       " '49803',\n",
       " '49804',\n",
       " '49805',\n",
       " '49806',\n",
       " '49807',\n",
       " '49808',\n",
       " '49809',\n",
       " '49810',\n",
       " '49811',\n",
       " '49812',\n",
       " '49813',\n",
       " '49814',\n",
       " '49815',\n",
       " '49816',\n",
       " '49817',\n",
       " '49818',\n",
       " '49819',\n",
       " '49820',\n",
       " '49821',\n",
       " '49822',\n",
       " '49823',\n",
       " '49824',\n",
       " '49825',\n",
       " '49826',\n",
       " '49827',\n",
       " '49828',\n",
       " '49829',\n",
       " '49830',\n",
       " '49831',\n",
       " '49832',\n",
       " '49833',\n",
       " '49834',\n",
       " '49835',\n",
       " '49836',\n",
       " '49837',\n",
       " '49838',\n",
       " '49839',\n",
       " '49840',\n",
       " '49841',\n",
       " '49842',\n",
       " '49843',\n",
       " '49844',\n",
       " '49845',\n",
       " '49846',\n",
       " '49847',\n",
       " '49848',\n",
       " '49849',\n",
       " '49850',\n",
       " '49851',\n",
       " '49852',\n",
       " '49853',\n",
       " '49854',\n",
       " '49855',\n",
       " '49856',\n",
       " '49857',\n",
       " '49858',\n",
       " '49859',\n",
       " '49860',\n",
       " '49861',\n",
       " '49862',\n",
       " '49863',\n",
       " '49864',\n",
       " '49865',\n",
       " '49866',\n",
       " '49867',\n",
       " '49868',\n",
       " '49869',\n",
       " '49870',\n",
       " '49871',\n",
       " '49872',\n",
       " '49873',\n",
       " '49874',\n",
       " '49875',\n",
       " '49876',\n",
       " '49877',\n",
       " '49878',\n",
       " '49879',\n",
       " '49880',\n",
       " '49881',\n",
       " '49882',\n",
       " '49883',\n",
       " '49884',\n",
       " '49885',\n",
       " '49886',\n",
       " '49887',\n",
       " '49888',\n",
       " '49889',\n",
       " '49890',\n",
       " '49891',\n",
       " '49892',\n",
       " '49893',\n",
       " '49894',\n",
       " '49895',\n",
       " '49896',\n",
       " '49897',\n",
       " '49898',\n",
       " '49899',\n",
       " '49900',\n",
       " '49901',\n",
       " '49902',\n",
       " '49903',\n",
       " '49904',\n",
       " '49905',\n",
       " '49906',\n",
       " '49907',\n",
       " '49908',\n",
       " '49909',\n",
       " '49910',\n",
       " '49911',\n",
       " '49912',\n",
       " '49913',\n",
       " '49914',\n",
       " '49915',\n",
       " '49916',\n",
       " '49917',\n",
       " '49918',\n",
       " '49919',\n",
       " '49920',\n",
       " '49921',\n",
       " '49923',\n",
       " '49924',\n",
       " '49925',\n",
       " '49926',\n",
       " '49927',\n",
       " '49928',\n",
       " '49929',\n",
       " '49930',\n",
       " '49931',\n",
       " '49932',\n",
       " '49933',\n",
       " '49934',\n",
       " '49935',\n",
       " '49936',\n",
       " '49937',\n",
       " '49938',\n",
       " '49939',\n",
       " '49940',\n",
       " '49941',\n",
       " '49942',\n",
       " '49943',\n",
       " '49944',\n",
       " '49945',\n",
       " '49946',\n",
       " '49947',\n",
       " '49948',\n",
       " '49949',\n",
       " '49950',\n",
       " '49951',\n",
       " '49952',\n",
       " '49953',\n",
       " '49954',\n",
       " '49955',\n",
       " '49956',\n",
       " '49957',\n",
       " '49958',\n",
       " '49959',\n",
       " '49960',\n",
       " '49961',\n",
       " '49962',\n",
       " '49963',\n",
       " '49964',\n",
       " '49965',\n",
       " '49967',\n",
       " '49968',\n",
       " '49969',\n",
       " '49970',\n",
       " '49971',\n",
       " '49972',\n",
       " '49973',\n",
       " '49974',\n",
       " '49975',\n",
       " '49976',\n",
       " '49977',\n",
       " '49978',\n",
       " '49979',\n",
       " '49980',\n",
       " '49981',\n",
       " '49982',\n",
       " '49983',\n",
       " '49984',\n",
       " '49985',\n",
       " '49986',\n",
       " '49987',\n",
       " '49988',\n",
       " '49989',\n",
       " '49990',\n",
       " '49991',\n",
       " '49992',\n",
       " '49993',\n",
       " '49994',\n",
       " '49995',\n",
       " '49996',\n",
       " '49997',\n",
       " '49998',\n",
       " '49999',\n",
       " '50000',\n",
       " '50001',\n",
       " '50002',\n",
       " '50004',\n",
       " '50005',\n",
       " '50006',\n",
       " '50007',\n",
       " '50008',\n",
       " '50009',\n",
       " '50010',\n",
       " '50011',\n",
       " '50012',\n",
       " '50013',\n",
       " '50014',\n",
       " '50015',\n",
       " '50016',\n",
       " '50017',\n",
       " '50018',\n",
       " '50019',\n",
       " '50020',\n",
       " '50021',\n",
       " '50022',\n",
       " '50023',\n",
       " '50024',\n",
       " '50025',\n",
       " '50026',\n",
       " '50027',\n",
       " '50028',\n",
       " '50029',\n",
       " '50030',\n",
       " '50031',\n",
       " '50032',\n",
       " '50033',\n",
       " '50034',\n",
       " '50035',\n",
       " '50036',\n",
       " '50037',\n",
       " '50038',\n",
       " '50039',\n",
       " '50040',\n",
       " '50041',\n",
       " '50042',\n",
       " '50043',\n",
       " '50044',\n",
       " '50045',\n",
       " '50046',\n",
       " '50047',\n",
       " '50048',\n",
       " '50049',\n",
       " '50050',\n",
       " '50051',\n",
       " '50052',\n",
       " '50053',\n",
       " '50054',\n",
       " '50056',\n",
       " '50057',\n",
       " '50058',\n",
       " '50059',\n",
       " '50060',\n",
       " '50061',\n",
       " '50062',\n",
       " '50063',\n",
       " '50064',\n",
       " '50065',\n",
       " '50066',\n",
       " '50067',\n",
       " '50068',\n",
       " '50069',\n",
       " '50070',\n",
       " '50071',\n",
       " '50072',\n",
       " '50073',\n",
       " '50074',\n",
       " '50075',\n",
       " '50076',\n",
       " '50077',\n",
       " '50078',\n",
       " '50079',\n",
       " '50080']"
      ]
     },
     "execution_count": 23,
     "metadata": {},
     "output_type": "execute_result"
    }
   ],
   "source": [
    "cr_list"
   ]
  },
  {
   "cell_type": "code",
   "execution_count": null,
   "id": "e80e9072-ee03-4cf4-bf0e-1035712a8123",
   "metadata": {},
   "outputs": [],
   "source": []
  },
  {
   "cell_type": "code",
   "execution_count": 27,
   "id": "d3227ffc",
   "metadata": {},
   "outputs": [],
   "source": [
    "def get_collection_title(collection_id):\n",
    "    collection_identifier = \"collection-info:{0}\".format(collection_id)\n",
    "    # here is the redis magic\n",
    "    coll_title = redis_client.hget(collection_identifier, \"title\")\n",
    "    if coll_title:\n",
    "        coll_title = coll_title.decode('utf-8')\n",
    "    else:\n",
    "        coll_title = ''\n",
    "    return coll_title\n"
   ]
  },
  {
   "cell_type": "code",
   "execution_count": 28,
   "id": "0d5ffa3c",
   "metadata": {},
   "outputs": [
    {
     "data": {
      "text/plain": [
       "'Animal Telemetry Project'"
      ]
     },
     "execution_count": 28,
     "metadata": {},
     "output_type": "execute_result"
    }
   ],
   "source": [
    "get_collection_title(62)"
   ]
  },
  {
   "cell_type": "code",
   "execution_count": 29,
   "id": "9435c8d8",
   "metadata": {},
   "outputs": [
    {
     "data": {
      "text/plain": [
       "''"
      ]
     },
     "execution_count": 29,
     "metadata": {},
     "output_type": "execute_result"
    }
   ],
   "source": [
    "get_collection_title(188)"
   ]
  },
  {
   "cell_type": "code",
   "execution_count": 34,
   "id": "88eeb5d4",
   "metadata": {},
   "outputs": [],
   "source": [
    "test_pattern = 'collection:*'"
   ]
  },
  {
   "cell_type": "code",
   "execution_count": 35,
   "id": "bce28899",
   "metadata": {},
   "outputs": [
    {
     "name": "stdout",
     "output_type": "stream",
     "text": [
      "b'collection:14'\n",
      "b'collection:61'\n",
      "b'collection:62'\n",
      "b'collection:67'\n",
      "b'collection:12'\n"
     ]
    }
   ],
   "source": [
    "for key in redis_client.scan_iter(match=test_pattern):\n",
    "    print(key)"
   ]
  }
 ],
 "metadata": {
  "kernelspec": {
   "display_name": "Python 3 (ipykernel)",
   "language": "python",
   "name": "python3"
  },
  "language_info": {
   "codemirror_mode": {
    "name": "ipython",
    "version": 3
   },
   "file_extension": ".py",
   "mimetype": "text/x-python",
   "name": "python",
   "nbconvert_exporter": "python",
   "pygments_lexer": "ipython3",
   "version": "3.10.8"
  }
 },
 "nbformat": 4,
 "nbformat_minor": 5
}
