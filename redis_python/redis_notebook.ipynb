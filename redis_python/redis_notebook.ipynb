{
 "cells": [
  {
   "cell_type": "markdown",
   "id": "2cd0aa75",
   "metadata": {},
   "source": [
    "# Redis in Python"
   ]
  },
  {
   "cell_type": "markdown",
   "id": "bc1b917f-55d0-4938-bc70-9fd34f91c3a1",
   "metadata": {},
   "source": [
    "This notebook will showcase how to interact with a Redis db via Python.\n",
    "\n",
    "Useful resources:\n",
    "<ul>\n",
    "    <li><a href=\"https://redis-py.readthedocs.io/en/stable/\" target=\"_blank\">Redis Python documentation</a></li>\n",
    "    <li><a href=\"https://redis.io/docs/getting-started/\" target=\"_blank\">Base Redis documentation</a></li>\n",
    "    <li><a href=\"https://www.ibm.com/docs/en/watson-studio-local/1.2.3?topic=notebooks-markdown-jupyter-cheatsheet\" target=\"_blank\">Markdown in jupyter cheatsheet</a></li>\n",
    "</ul>"
   ]
  },
  {
   "cell_type": "markdown",
   "id": "c98ee52c-fea9-4454-aeb6-d44bbc788221",
   "metadata": {},
   "source": [
    "## Document Database Example:"
   ]
  },
  {
   "cell_type": "markdown",
   "id": "cbc10f17-d7ac-4651-a0ae-0583299349f0",
   "metadata": {},
   "source": [
    "In this section we will get started by connecting to our redis db and start adding data from the University Idaho Library (<a href=\"https://www.lib.uidaho.edu/digital/1918flu/assets/data/metadata.json\" target=\"_blank\">1918 Flu Pandemic Collection</a>). This example will focus on Redis as a document database where we will set up a searchable index, add data, and finally search our data. For a detailed example see: <a href=\"https://redis-py.readthedocs.io/en/stable/examples/search_json_examples.html\" target=\"_blank\">redis-py docs</a>."
   ]
  },
  {
   "cell_type": "markdown",
   "id": "a165a3fa-62a6-45fb-8698-36f52d10f779",
   "metadata": {},
   "source": [
    "Start by importing the required modules:"
   ]
  },
  {
   "cell_type": "code",
   "execution_count": 1,
   "id": "7987d879",
   "metadata": {},
   "outputs": [],
   "source": [
    "import redis\n",
    "from redis.commands.search.field import TextField\n",
    "from redis.commands.search.indexDefinition import IndexDefinition, IndexType\n",
    "import json"
   ]
  },
  {
   "cell_type": "markdown",
   "id": "421db2e4-0a5a-47d2-afdd-126bcae02eed",
   "metadata": {},
   "source": [
    "Next we connect to our Redis db: "
   ]
  },
  {
   "cell_type": "code",
   "execution_count": 2,
   "id": "d9df780d",
   "metadata": {},
   "outputs": [],
   "source": [
    "redis_client = redis.Redis(host='localhost', port=6379, db=0, decode_responses=True)"
   ]
  },
  {
   "cell_type": "markdown",
   "id": "4acffb33-ea7c-4bb1-9d7e-199b0c747bdc",
   "metadata": {},
   "source": [
    "Before we add data, we will create a searchable index. To do so we must create an index definition that defines the key prefix and the type of data that will be in the index. Additionally, we will specifiy which fields we would like to be searchable within the index."
   ]
  },
  {
   "cell_type": "code",
   "execution_count": 3,
   "id": "b0a386e9-1792-4faa-b0ee-98df8e44fe3b",
   "metadata": {},
   "outputs": [
    {
     "data": {
      "text/plain": [
       "'OK'"
      ]
     },
     "execution_count": 3,
     "metadata": {},
     "output_type": "execute_result"
    }
   ],
   "source": [
    "index_def = IndexDefinition(\n",
    "    index_type=IndexType.JSON,\n",
    "    prefix = ['document:']\n",
    ")\n",
    "# $ indicates the root level of the document (top most level of the JSON)\n",
    "schema = (TextField('$.description', as_name='description'))\n",
    "# ft stands for full text and is apart of the RedisSearch module\n",
    "redis_client.ft('py_document_idx').create_index(schema, definition = index_def)"
   ]
  },
  {
   "cell_type": "markdown",
   "id": "76d475cc-bb26-43ae-bafe-f4411be11300",
   "metadata": {},
   "source": [
    "Read the JSON file that contains data:"
   ]
  },
  {
   "cell_type": "code",
   "execution_count": 4,
   "id": "61284c0f-6b12-4784-9fcb-0dddc3e0d25e",
   "metadata": {},
   "outputs": [],
   "source": [
    "with open('./data/uidaho_spanish_flu_metadata.json') as flu_file:\n",
    "    data = json.load(flu_file)"
   ]
  },
  {
   "cell_type": "code",
   "execution_count": 22,
   "id": "b9eb3f50-455c-49f2-be69-98c7c744e680",
   "metadata": {},
   "outputs": [
    {
     "name": "stdout",
     "output_type": "stream",
     "text": [
      "{'objects': [{'objectid': 'spanishflu001', 'filename': 'pg90_8-1-84_11.jpg', 'title': 'Inland Hospital Postcard', 'creator': 'Ott, Clifford M.', 'description': \"Postcard depicting Dr. Carither's Inland Hospital, Moscow, Idaho. In 1918, while Dr. Carither's was serving the nation, he allowed Inland Hospital to be used for influenza patients from the university's Student Army Training Corps.\", 'date': '1910-01', 'date_is_approximate': 'yes', 'subject': 'hospitals; moscow; buildings;', 'location': 'United States--Idaho--Latah County--Moscow', 'digital_collection': 'https://www.lib.uidaho.edu/digital/ott/', 'source': 'Clifford M. Ott collection, PG 90, University of Idaho Library Special Collections and Archives', 'identifier': 'PG90_8-1-84_11', 'format_original': 'Negative', 'format': 'image/jpg', 'type': 'image;stillimage', 'rights': 'Material has likely passed into public domain. Digital reproductions are made available by University of Idaho Library for educational purposes, and future use should acknowledge this repository. For more information, please contact University of Idaho Library Special Collections and Archives Department at [libspec@uidaho.edu](mailto:libspec@uidaho.edu). The University of Idaho Library is not liable for any violations of the law by users.', 'rightsstatement': 'http://rightsstatements.org/vocab/NoC-US/1.0/', 'language': 'eng', 'display_template': 'image', 'object_location': 'https://objects.lib.uidaho.edu/1918flu/pg90_8-1-84_11.jpg', 'image_small': 'https://objects.lib.uidaho.edu/1918flu/small/pg90_8-1-84_11_sm.jpg', 'image_thumb': 'https://objects.lib.uidaho.edu/1918flu/thumbs/pg90_8-1-84_11_th.jpg', 'object_thumb': 'https://objects.lib.uidaho.edu/1918flu/thumbs/pg90_8-1-84_11_th.jpg', 'reference_url': 'https://www.lib.uidaho.edu/digital/1918flu/items/spanishflu001.html'}, {'objectid': 'spanishflu002', 'filename': 'pg40_wor1.jpg', 'title': \"Angels of Mercy' - Red Cross Volunteers Marching in Armistice Parade\", 'description': 'Photograph \n"
     ]
    }
   ],
   "source": [
    "print(str(data)[:2000])"
   ]
  },
  {
   "cell_type": "markdown",
   "id": "205039f0-66e9-4cce-81e9-6f39cfda360c",
   "metadata": {},
   "source": [
    "We can see that our example data contains a key named objects that contains a list of items. These items are the documents that we will be writing to the database."
   ]
  },
  {
   "cell_type": "code",
   "execution_count": 6,
   "id": "eb95dccf-f7eb-4de9-ae84-ad2a133f0b63",
   "metadata": {},
   "outputs": [],
   "source": [
    "# iterate over the list of documents\n",
    "for document in data['objects']:\n",
    "    # create a unique key for each document\n",
    "    document_key = 'document:{0}'.format(document['identifier'])\n",
    "    # write the document to the database\n",
    "    redis_client.json().set(document_key, '$', document)"
   ]
  },
  {
   "cell_type": "markdown",
   "id": "a353a781-0e13-4fc6-a90e-e238db5b53b7",
   "metadata": {},
   "source": [
    "After adding our data to the database, we can inspect the keys that have been added (I subset the list because we don't need to see all of the keys):"
   ]
  },
  {
   "cell_type": "code",
   "execution_count": 13,
   "id": "1a1b9285-b9c1-4e28-9762-ea7d8ca04020",
   "metadata": {},
   "outputs": [
    {
     "data": {
      "text/plain": [
       "['document:arg1918_10_19p3',\n",
       " 'document:arg1918_10_30p2b',\n",
       " 'document:UG12_526_02',\n",
       " 'document:arg1918_11_06p2b',\n",
       " 'document:UG12_526_06']"
      ]
     },
     "execution_count": 13,
     "metadata": {},
     "output_type": "execute_result"
    }
   ],
   "source": [
    "redis_client.keys()[0:5]"
   ]
  },
  {
   "cell_type": "markdown",
   "id": "58edd16b-526a-4f98-bb74-72edcc8b7745",
   "metadata": {},
   "source": [
    "Now that we know that certain keys exist, let's check the data types so that we can properly query the data:"
   ]
  },
  {
   "cell_type": "code",
   "execution_count": 23,
   "id": "e91b4d77-f918-4e97-bd05-55d10814a495",
   "metadata": {},
   "outputs": [
    {
     "data": {
      "text/plain": [
       "'ReJSON-RL'"
      ]
     },
     "execution_count": 23,
     "metadata": {},
     "output_type": "execute_result"
    }
   ],
   "source": [
    "redis_client.type('document:arg1918_10_19p3')"
   ]
  },
  {
   "cell_type": "markdown",
   "id": "a0566867-a946-44a1-bf06-e624532a1c02",
   "metadata": {},
   "source": [
    "<div class=\"alert alert-block alert-success\">\n",
    "    Keys can contain different datatypes each of which requires a specific command to access.\n",
    "</div"
   ]
  },
  {
   "cell_type": "markdown",
   "id": "a4e1cb1b-dc20-405b-85f5-d941d89fe7a9",
   "metadata": {},
   "source": [
    "The RedisSearch module supports a variety of search types. Here are a few examples:"
   ]
  },
  {
   "cell_type": "code",
   "execution_count": 9,
   "id": "77b1d552-b574-4736-89de-6ad5be889fc3",
   "metadata": {},
   "outputs": [],
   "source": [
    "# exact search for a word\n",
    "results = redis_client.ft('py_document_idx').search(\"symptoms\")\n",
    "# search for documents that have the prefix \"th\" within them\n",
    "results_2 = redis_client.ft('py_document_idx').search(\"th*\")\n",
    "# fuzzy search\n",
    "results_3 = redis_client.ft('py_document_idx').search(\"%%simptom%%\")"
   ]
  },
  {
   "cell_type": "code",
   "execution_count": 10,
   "id": "82ebfb32-8154-437d-94fd-eebc150788fa",
   "metadata": {
    "scrolled": true
   },
   "outputs": [
    {
     "name": "stdout",
     "output_type": "stream",
     "text": [
      "1\n"
     ]
    }
   ],
   "source": [
    "print(results.total)"
   ]
  },
  {
   "cell_type": "code",
   "execution_count": 30,
   "id": "c232c94a-e9d2-429c-9a9a-ca6ff67c21e8",
   "metadata": {},
   "outputs": [
    {
     "name": "stdout",
     "output_type": "stream",
     "text": [
      "Result{1 total, docs: [Document {'id': 'document:MG170_5', 'payload': None, 'json': '{\"objectid\":\"spanishflu007\",\"filename\":\"mg202_1.jpg\",\"title\":\"Alpha Kappa Epsilon House\",\"creator\":\"Thomas, Esther E.\",\"description\":\"Photograph of the Alpha Kappa Epsilon House. This house was converted into an auxiliary hospital for patients with mild symptoms of the influenza.\",\"date\":\"1918-10\",\"date_is_approximate\":\"yes\",\"subject\":\"hospitals; fraternities; houses\",\"location\":\"United States--Idaho--Latah County--Moscow\",\"source\":\"Esther E. Thomas scrapbooks, 1915-1925, MG 170, University of Idaho Library Special Collections and Archives\",\"identifier\":\"MG170_5\",\"format_original\":\"Scrapbook\",\"format\":\"image/jpg\",\"type\":\"image;stillimage\",\"rights\":\"Material has likely passed into public domain. Digital reproductions are made available by University of Idaho Library for educational purposes, and future use should acknowledge this repository. For more information, please contact University of Idaho Library Special Collections and Archives Department at [libspec@uidaho.edu](mailto:libspec@uidaho.edu). The University of Idaho Library is not liable for any violations of the law by users.\",\"rightsstatement\":\"http://rightsstatements.org/vocab/NoC-US/1.0/\",\"language\":\"eng\",\"display_template\":\"image\",\"object_location\":\"https://objects.lib.uidaho.edu/1918flu/mg202_1.jpg\",\"image_small\":\"https://objects.lib.uidaho.edu/1918flu/small/mg202_1_sm.jpg\",\"image_thumb\":\"https://objects.lib.uidaho.edu/1918flu/thumbs/mg202_1_th.jpg\",\"object_thumb\":\"https://objects.lib.uidaho.edu/1918flu/thumbs/mg202_1_th.jpg\",\"reference_url\":\"https://www.lib.uidaho.edu/digital/1918flu/items/spanishflu007.html\"}'}]}\n"
     ]
    }
   ],
   "source": [
    "print(results)"
   ]
  },
  {
   "cell_type": "code",
   "execution_count": 12,
   "id": "48a1194a-b1d6-473c-8d43-c17f6bc72e29",
   "metadata": {},
   "outputs": [
    {
     "name": "stdout",
     "output_type": "stream",
     "text": [
      "Result{1 total, docs: [Document {'id': 'document:MG170_5', 'payload': None, 'json': '{\"objectid\":\"spanishflu007\",\"filename\":\"mg202_1.jpg\",\"title\":\"Alpha Kappa Epsilon House\",\"creator\":\"Thomas, Esther E.\",\"description\":\"Photograph of the Alpha Kappa Epsilon House. This house was converted into an auxiliary hospital for patients with mild symptoms of the influenza.\",\"date\":\"1918-10\",\"date_is_approximate\":\"yes\",\"subject\":\"hospitals; fraternities; houses\",\"location\":\"United States--Idaho--Latah County--Moscow\",\"source\":\"Esther E. Thomas scrapbooks, 1915-1925, MG 170, University of Idaho Library Special Collections and Archives\",\"identifier\":\"MG170_5\",\"format_original\":\"Scrapbook\",\"format\":\"image/jpg\",\"type\":\"image;stillimage\",\"rights\":\"Material has likely passed into public domain. Digital reproductions are made available by University of Idaho Library for educational purposes, and future use should acknowledge this repository. For more information, please contact University of Idaho Library Special Collections and Archives Department at [libspec@uidaho.edu](mailto:libspec@uidaho.edu). The University of Idaho Library is not liable for any violations of the law by users.\",\"rightsstatement\":\"http://rightsstatements.org/vocab/NoC-US/1.0/\",\"language\":\"eng\",\"display_template\":\"image\",\"object_location\":\"https://objects.lib.uidaho.edu/1918flu/mg202_1.jpg\",\"image_small\":\"https://objects.lib.uidaho.edu/1918flu/small/mg202_1_sm.jpg\",\"image_thumb\":\"https://objects.lib.uidaho.edu/1918flu/thumbs/mg202_1_th.jpg\",\"object_thumb\":\"https://objects.lib.uidaho.edu/1918flu/thumbs/mg202_1_th.jpg\",\"reference_url\":\"https://www.lib.uidaho.edu/digital/1918flu/items/spanishflu007.html\"}'}]}\n"
     ]
    }
   ],
   "source": [
    "print(results_3)"
   ]
  },
  {
   "cell_type": "markdown",
   "id": "6cc0987c-19e4-429d-b33b-a7ddaef2d295",
   "metadata": {},
   "source": [
    "## Geographic Data"
   ]
  },
  {
   "cell_type": "markdown",
   "id": "f92e0b90-d80d-43de-b786-0007dec3ed4f",
   "metadata": {},
   "source": [
    "Next, we will add data that contain latitude and longitude and demonstrate how geographic queries work in Redis. The example dataset comes from the linked <a href=\"https://www.kaggle.com/datasets/camnugent/california-housing-prices?resource=download\" target=\"_blank\">Kaggle repository</a>."
   ]
  },
  {
   "cell_type": "code",
   "execution_count": 58,
   "id": "c032b208-873d-4a9e-9570-e3b4586c55b7",
   "metadata": {},
   "outputs": [],
   "source": [
    "import pandas as pd\n",
    "import plotly.graph_objects as go\n",
    "import plotly.io as pio\n",
    "pio.renderers.default = 'iframe'"
   ]
  },
  {
   "cell_type": "code",
   "execution_count": 37,
   "id": "606ca43e-382a-4ebb-a267-6ef648baf819",
   "metadata": {},
   "outputs": [
    {
     "name": "stdout",
     "output_type": "stream",
     "text": [
      "20640 data points\n"
     ]
    }
   ],
   "source": [
    "# read the csv data into a pandas dataframe\n",
    "housing_df = pd.read_csv('./data/housing.csv')\n",
    "print('{0} data points'.format(len(housing_df)))"
   ]
  },
  {
   "cell_type": "code",
   "execution_count": 35,
   "id": "173cc772-dd60-4dad-915e-9e26b198c84e",
   "metadata": {},
   "outputs": [
    {
     "data": {
      "text/html": [
       "<div>\n",
       "<style scoped>\n",
       "    .dataframe tbody tr th:only-of-type {\n",
       "        vertical-align: middle;\n",
       "    }\n",
       "\n",
       "    .dataframe tbody tr th {\n",
       "        vertical-align: top;\n",
       "    }\n",
       "\n",
       "    .dataframe thead th {\n",
       "        text-align: right;\n",
       "    }\n",
       "</style>\n",
       "<table border=\"1\" class=\"dataframe\">\n",
       "  <thead>\n",
       "    <tr style=\"text-align: right;\">\n",
       "      <th></th>\n",
       "      <th>longitude</th>\n",
       "      <th>latitude</th>\n",
       "      <th>housing_median_age</th>\n",
       "      <th>total_rooms</th>\n",
       "      <th>total_bedrooms</th>\n",
       "      <th>population</th>\n",
       "      <th>households</th>\n",
       "      <th>median_income</th>\n",
       "      <th>median_house_value</th>\n",
       "      <th>ocean_proximity</th>\n",
       "    </tr>\n",
       "  </thead>\n",
       "  <tbody>\n",
       "    <tr>\n",
       "      <th>0</th>\n",
       "      <td>-122.23</td>\n",
       "      <td>37.88</td>\n",
       "      <td>41.0</td>\n",
       "      <td>880.0</td>\n",
       "      <td>129.0</td>\n",
       "      <td>322.0</td>\n",
       "      <td>126.0</td>\n",
       "      <td>8.3252</td>\n",
       "      <td>452600.0</td>\n",
       "      <td>NEAR BAY</td>\n",
       "    </tr>\n",
       "    <tr>\n",
       "      <th>1</th>\n",
       "      <td>-122.22</td>\n",
       "      <td>37.86</td>\n",
       "      <td>21.0</td>\n",
       "      <td>7099.0</td>\n",
       "      <td>1106.0</td>\n",
       "      <td>2401.0</td>\n",
       "      <td>1138.0</td>\n",
       "      <td>8.3014</td>\n",
       "      <td>358500.0</td>\n",
       "      <td>NEAR BAY</td>\n",
       "    </tr>\n",
       "    <tr>\n",
       "      <th>2</th>\n",
       "      <td>-122.24</td>\n",
       "      <td>37.85</td>\n",
       "      <td>52.0</td>\n",
       "      <td>1467.0</td>\n",
       "      <td>190.0</td>\n",
       "      <td>496.0</td>\n",
       "      <td>177.0</td>\n",
       "      <td>7.2574</td>\n",
       "      <td>352100.0</td>\n",
       "      <td>NEAR BAY</td>\n",
       "    </tr>\n",
       "    <tr>\n",
       "      <th>3</th>\n",
       "      <td>-122.25</td>\n",
       "      <td>37.85</td>\n",
       "      <td>52.0</td>\n",
       "      <td>1274.0</td>\n",
       "      <td>235.0</td>\n",
       "      <td>558.0</td>\n",
       "      <td>219.0</td>\n",
       "      <td>5.6431</td>\n",
       "      <td>341300.0</td>\n",
       "      <td>NEAR BAY</td>\n",
       "    </tr>\n",
       "    <tr>\n",
       "      <th>4</th>\n",
       "      <td>-122.25</td>\n",
       "      <td>37.85</td>\n",
       "      <td>52.0</td>\n",
       "      <td>1627.0</td>\n",
       "      <td>280.0</td>\n",
       "      <td>565.0</td>\n",
       "      <td>259.0</td>\n",
       "      <td>3.8462</td>\n",
       "      <td>342200.0</td>\n",
       "      <td>NEAR BAY</td>\n",
       "    </tr>\n",
       "  </tbody>\n",
       "</table>\n",
       "</div>"
      ],
      "text/plain": [
       "   longitude  latitude  housing_median_age  total_rooms  total_bedrooms  \\\n",
       "0    -122.23     37.88                41.0        880.0           129.0   \n",
       "1    -122.22     37.86                21.0       7099.0          1106.0   \n",
       "2    -122.24     37.85                52.0       1467.0           190.0   \n",
       "3    -122.25     37.85                52.0       1274.0           235.0   \n",
       "4    -122.25     37.85                52.0       1627.0           280.0   \n",
       "\n",
       "   population  households  median_income  median_house_value ocean_proximity  \n",
       "0       322.0       126.0         8.3252            452600.0        NEAR BAY  \n",
       "1      2401.0      1138.0         8.3014            358500.0        NEAR BAY  \n",
       "2       496.0       177.0         7.2574            352100.0        NEAR BAY  \n",
       "3       558.0       219.0         5.6431            341300.0        NEAR BAY  \n",
       "4       565.0       259.0         3.8462            342200.0        NEAR BAY  "
      ]
     },
     "execution_count": 35,
     "metadata": {},
     "output_type": "execute_result"
    }
   ],
   "source": [
    "housing_df.head()"
   ]
  },
  {
   "cell_type": "markdown",
   "id": "48207ebc-f9a0-4648-a00a-57710a064a72",
   "metadata": {},
   "source": [
    "Below we will be using the geoadd function to add location data to our database. For more information see <a href=\"https://redis.io/commands/geoadd/\" target=\"_blank\">GEOADD documentation</a>."
   ]
  },
  {
   "cell_type": "code",
   "execution_count": 41,
   "id": "aaec2dcd-b6c8-4e70-a005-0ed9f0ad73ba",
   "metadata": {},
   "outputs": [],
   "source": [
    "# iterate over the rows in the dataframe\n",
    "for index, row in housing_df.iterrows():\n",
    "    # locations in the name of the geo index that we will add data to \n",
    "    redis_client.geoadd('locations', (row['longitude'], row['latitude'], 'location:{0}'.format(index)), nx=True)"
   ]
  },
  {
   "cell_type": "markdown",
   "id": "9423ac09-e20c-4219-932e-bab53eaef69b",
   "metadata": {},
   "source": [
    "Geo indices are stored as sorted sets in Redis. To return the key names for a sorted set, you must use the zrange() function."
   ]
  },
  {
   "cell_type": "code",
   "execution_count": 43,
   "id": "a027506a-c282-4c3c-ba4f-f2a1420c00e4",
   "metadata": {},
   "outputs": [
    {
     "data": {
      "text/plain": [
       "['location:9497',\n",
       " 'location:9495',\n",
       " 'location:9494',\n",
       " 'location:9471',\n",
       " 'location:9466']"
      ]
     },
     "execution_count": 43,
     "metadata": {},
     "output_type": "execute_result"
    }
   ],
   "source": [
    "redis_client.zrange('locations', 0, -1)[0:5]"
   ]
  },
  {
   "cell_type": "code",
   "execution_count": 51,
   "id": "d2d89ebe-bd52-45fd-a7ae-f5d929839ba3",
   "metadata": {},
   "outputs": [
    {
     "name": "stdout",
     "output_type": "stream",
     "text": [
      "(-123.80999833345413, 39.310000651575066)\n"
     ]
    }
   ],
   "source": [
    "location_list = redis_client.zrange('locations', 0, -1)\n",
    "# returns coordinates as lng, lat\n",
    "position_list = redis_client.geopos('locations', *location_list)\n",
    "\n",
    "print(position_list[0])"
   ]
  },
  {
   "cell_type": "code",
   "execution_count": 52,
   "id": "e619bf77-5dd8-4153-9462-5d0baed0700c",
   "metadata": {},
   "outputs": [],
   "source": [
    "full_lng_list = [x[0] for x in position_list]\n",
    "full_lat_list = [x[1] for x in position_list]"
   ]
  },
  {
   "cell_type": "code",
   "execution_count": 59,
   "id": "574464ec-db3e-443f-8a74-919a2538d78c",
   "metadata": {},
   "outputs": [
    {
     "data": {
      "text/html": [
       "<iframe\n",
       "    scrolling=\"no\"\n",
       "    width=\"100%\"\n",
       "    height=\"545px\"\n",
       "    src=\"iframe_figures/figure_59.html\"\n",
       "    frameborder=\"0\"\n",
       "    allowfullscreen\n",
       "></iframe>\n"
      ]
     },
     "metadata": {},
     "output_type": "display_data"
    }
   ],
   "source": [
    "fig = go.Figure(data=go.Scattergeo(\n",
    "        lon = full_lng_list,\n",
    "        lat = full_lat_list,\n",
    "        text = position_list,\n",
    "        mode = 'markers',\n",
    "        ))\n",
    "\n",
    "fig.update_layout(\n",
    "        title = 'California Houses',\n",
    "        geo_scope='usa',\n",
    "    )\n",
    "fig.show()"
   ]
  },
  {
   "cell_type": "code",
   "execution_count": 72,
   "id": "d53c7e90-ebb0-4786-8706-bb91386561ad",
   "metadata": {},
   "outputs": [],
   "source": [
    "results = redis_client.georadius('locations', -122.22, 37.86, 50, unit='km', withcoord=True)"
   ]
  },
  {
   "cell_type": "code",
   "execution_count": 73,
   "id": "54f4b46a-5708-4dc0-bf88-e1ecd99cf1ad",
   "metadata": {},
   "outputs": [
    {
     "name": "stdout",
     "output_type": "stream",
     "text": [
      "[['location:17170', (-122.27000266313553, 37.43000050241453)], ['location:17168', (-122.27000266313553, 37.449999452361716)], ['location:17100', (-122.25999802350998, 37.449999452361716)], ['location:17169', (-122.23999947309494, 37.43000050241453)], ['location:17155', (-122.23000019788742, 37.42000102744094)]]\n"
     ]
    }
   ],
   "source": [
    "print(results[0:5])"
   ]
  },
  {
   "cell_type": "code",
   "execution_count": 74,
   "id": "6abdb2a7-67e8-405f-a87e-c08f386d52e1",
   "metadata": {},
   "outputs": [],
   "source": [
    "label_list = [x[0] for x in results]\n",
    "lng_list = [x[1][0] for x in results]\n",
    "lat_list = [x[1][1] for x in results]"
   ]
  },
  {
   "cell_type": "code",
   "execution_count": 75,
   "id": "b9c43c6f-298c-40e1-a6c6-76d206578d6f",
   "metadata": {},
   "outputs": [
    {
     "data": {
      "text/html": [
       "<iframe\n",
       "    scrolling=\"no\"\n",
       "    width=\"100%\"\n",
       "    height=\"545px\"\n",
       "    src=\"iframe_figures/figure_75.html\"\n",
       "    frameborder=\"0\"\n",
       "    allowfullscreen\n",
       "></iframe>\n"
      ]
     },
     "metadata": {},
     "output_type": "display_data"
    }
   ],
   "source": [
    "fig = go.Figure(data=go.Scattergeo(\n",
    "        lon = lng_list,\n",
    "        lat = lat_list,\n",
    "        text = label_list,\n",
    "        mode = 'markers',\n",
    "        ))\n",
    "\n",
    "fig.update_layout(\n",
    "        title = 'California Houses (Redis GEORADIUS Query)',\n",
    "        geo_scope='usa',\n",
    "    )\n",
    "fig.show()"
   ]
  },
  {
   "cell_type": "code",
   "execution_count": null,
   "id": "3121be76-f21e-4b05-98a7-4096a4f92032",
   "metadata": {},
   "outputs": [],
   "source": []
  }
 ],
 "metadata": {
  "kernelspec": {
   "display_name": "Python 3 (ipykernel)",
   "language": "python",
   "name": "python3"
  },
  "language_info": {
   "codemirror_mode": {
    "name": "ipython",
    "version": 3
   },
   "file_extension": ".py",
   "mimetype": "text/x-python",
   "name": "python",
   "nbconvert_exporter": "python",
   "pygments_lexer": "ipython3",
   "version": "3.10.13"
  }
 },
 "nbformat": 4,
 "nbformat_minor": 5
}
